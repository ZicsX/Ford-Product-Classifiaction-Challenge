{
 "cells": [
  {
   "cell_type": "code",
   "execution_count": null,
   "metadata": {},
   "outputs": [],
   "source": [
    "# import libraries\n",
    "import numpy as np\n",
    "import pandas as pd\n",
    "\n",
    "import warnings\n",
    "warnings.filterwarnings('ignore')"
   ]
  },
  {
   "cell_type": "code",
   "execution_count": null,
   "metadata": {},
   "outputs": [],
   "source": [
    "# read the data\n",
    "train=pd.read_csv('train0.csv')\n",
    "test=pd.read_csv('test0.csv')"
   ]
  },
  {
   "cell_type": "code",
   "execution_count": null,
   "metadata": {},
   "outputs": [],
   "source": [
    "# remove spaces from the data\n",
    "train=train.apply(lambda x: x.str.strip() if x.dtype == \"object\" else x)\n",
    "test=test.apply(lambda x: x.str.strip() if x.dtype == \"object\" else x)"
   ]
  },
  {
   "cell_type": "code",
   "execution_count": null,
   "metadata": {},
   "outputs": [],
   "source": [
    "# replace missing values with np.nan\n",
    "train=train.replace(\"nan\",np.nan)\n",
    "train=train.replace(\"?\",np.nan)\n",
    "train=train.replace(\"None\",np.nan)\n",
    "\n",
    "test=test.replace(\"nan\",np.nan)\n",
    "test=test.replace(\"?\",np.nan)\n",
    "test=test.replace(\"None\",np.nan)"
   ]
  },
  {
   "cell_type": "code",
   "execution_count": null,
   "metadata": {},
   "outputs": [],
   "source": [
    "# Converting 'Revenue', 'Net_Valuation', 'Share_Price' to numeric values\n",
    "train['Revenue']=pd.to_numeric(train['Revenue'],errors='coerce')\n",
    "train['Net_Valuation']=pd.to_numeric(train['Net_Valuation'],errors='coerce')\n",
    "train['Share_Price']=pd.to_numeric(train['Share_Price'],errors='coerce')\n",
    "\n",
    "test['Revenue']=pd.to_numeric(test['Revenue'],errors='coerce')\n",
    "test['Net_Valuation']=pd.to_numeric(test['Net_Valuation'],errors='coerce')\n",
    "test['Share_Price']=pd.to_numeric(test['Share_Price'],errors='coerce')\n"
   ]
  },
  {
   "cell_type": "code",
   "execution_count": null,
   "metadata": {},
   "outputs": [
    {
     "data": {
      "text/plain": [
       "Index(['File_Name', 'Location', 'Sector', 'Employees', 'Revenue',\n",
       "       'Net_Valuation', 'Share_Price', 'Company_Background', 'Product'],\n",
       "      dtype='object')"
      ]
     },
     "metadata": {},
     "output_type": "display_data"
    }
   ],
   "source": [
    "train.columns"
   ]
  },
  {
   "cell_type": "code",
   "execution_count": null,
   "metadata": {},
   "outputs": [
    {
     "data": {
      "text/plain": [
       "array(['AI', 'Truck', 'Medical devices', 'antivirus-security', 'Hydro',\n",
       "       'Organicfood', 'charcoal', 'Kids toys', 'Fuel', 'Gaming hardware',\n",
       "       'Bike', 'allopathy', 'Solar'], dtype=object)"
      ]
     },
     "metadata": {},
     "output_type": "display_data"
    }
   ],
   "source": [
    "train.Product.unique()"
   ]
  },
  {
   "cell_type": "code",
   "execution_count": null,
   "metadata": {},
   "outputs": [],
   "source": [
    "# # drop File_Name\n",
    "# train.drop('File_Name',axis=1,inplace=True)\n",
    "\n",
    "# File_Name = test['File_Name']\n",
    "# test.drop('File_Name',axis=1,inplace=True)"
   ]
  },
  {
   "cell_type": "code",
   "execution_count": null,
   "metadata": {},
   "outputs": [
    {
     "data": {
      "text/plain": [
       "(232,)"
      ]
     },
     "metadata": {},
     "output_type": "display_data"
    }
   ],
   "source": [
    "# unique values in Location\n",
    "train.Location.append(test.Location).unique().shape"
   ]
  },
  {
   "cell_type": "code",
   "execution_count": null,
   "metadata": {},
   "outputs": [
    {
     "data": {
      "text/plain": [
       "array(['Public_sector', nan, 'Private_sector'], dtype=object)"
      ]
     },
     "metadata": {},
     "output_type": "display_data"
    }
   ],
   "source": [
    "# unique values in Sector\n",
    "train.Sector.append(test.Sector).unique()"
   ]
  },
  {
   "cell_type": "code",
   "execution_count": null,
   "metadata": {},
   "outputs": [],
   "source": [
    "# replace underscore from Sector with space\n",
    "train.Sector=train.Sector.replace('Public_sector','Public sector')\n",
    "test.Sector=test.Sector.replace('Public_sector','Public sector')\n",
    "\n",
    "train.Sector=train.Sector.replace('Private_sector','Private sector')\n",
    "test.Sector=test.Sector.replace('Private_sector','Private sector')"
   ]
  },
  {
   "cell_type": "code",
   "execution_count": null,
   "metadata": {},
   "outputs": [],
   "source": [
    "# fill missing values in Company_Background with empty string\n",
    "train.Company_Background.fillna('',inplace=True)\n",
    "test.Company_Background.fillna('',inplace=True)"
   ]
  },
  {
   "cell_type": "code",
   "execution_count": null,
   "metadata": {},
   "outputs": [],
   "source": [
    "# concatenate Company_Background with all other columns\n",
    "\n",
    "# location\n",
    "idx = train.Location[train.Location.notnull()].index\n",
    "train.loc[idx,'Company_Background'] = train.loc[idx,'Company_Background'] + ' This Company is based out of ' + train.loc[idx,'Location'] + '.'\n",
    "# Sector\n",
    "idx = train.Sector[train.Sector.notnull()].index\n",
    "train.loc[idx,'Company_Background'] = train.loc[idx,'Company_Background'] + ' This Company is in the ' + train.loc[idx,'Sector'] + '.'\n",
    "# Employees\n",
    "idx = train.Employees[train.Employees.notnull()].index\n",
    "train.Employees = train.Employees.fillna('0')\n",
    "train['Employees']=train['Employees'].astype(float).astype(int)\n",
    "train.loc[idx,'Company_Background'] = train.loc[idx,'Company_Background'] + ' This Company has ' + train.loc[idx,'Employees'].astype(str) + '.' + ' employees.'\n",
    "# Revenue\n",
    "idx = train.Revenue[train.Revenue.notnull()].index\n",
    "train.loc[idx,'Company_Background'] = train.loc[idx,'Company_Background'] + ' This Company has a revenue of ' + train.loc[idx,'Revenue'].round(1).astype(str) + ' Milions.'\n",
    "# Net_Valuation\n",
    "idx = train.Net_Valuation[train.Net_Valuation.notnull()].index\n",
    "train.loc[idx,'Company_Background'] = train.loc[idx,'Company_Background'] + ' This Company has a net valuation of ' + train.loc[idx,'Net_Valuation'].round(1).astype(str) + '.'\n",
    "# Share_Price\n",
    "idx = train.Share_Price[train.Share_Price.notnull()].index\n",
    "train.loc[idx,'Company_Background'] = train.loc[idx,'Company_Background'] + ' This Company has a share price of ' + train.loc[idx,'Share_Price'].round(1).astype(str) + '.'\n",
    "\n",
    "# Test data\n",
    "\n",
    "# location\n",
    "idx = test.Location[test.Location.notnull()].index\n",
    "test.loc[idx,'Company_Background'] = test.loc[idx,'Company_Background'] + ' This Company is based out of ' + test.loc[idx,'Location'] + '.'\n",
    "# Sector\n",
    "idx = test.Sector[test.Sector.notnull()].index\n",
    "test.loc[idx,'Company_Background'] = test.loc[idx,'Company_Background'] + ' This Company is in the ' + test.loc[idx,'Sector'] + '.'\n",
    "# Employees\n",
    "idx = test.Employees[test.Employees.notnull()].index\n",
    "test.Employees = test.Employees.fillna('0')\n",
    "test['Employees']=test['Employees'].astype(float).astype(int)\n",
    "test.loc[idx,'Company_Background'] = test.loc[idx,'Company_Background'] + ' This Company has ' + test.loc[idx,'Employees'].astype(str) + ' employees.'\n",
    "# Revenue\n",
    "idx = test.Revenue[test.Revenue.notnull()].index\n",
    "test.loc[idx,'Company_Background'] = test.loc[idx,'Company_Background'] + ' This Company has a revenue of ' + test.loc[idx,'Revenue'].round(1).astype(str) + ' Milions.'\n",
    "# Net_Valuation\n",
    "idx = test.Net_Valuation[test.Net_Valuation.notnull()].index\n",
    "test.loc[idx,'Company_Background'] = test.loc[idx,'Company_Background'] + ' This Company has a net valuation of ' + test.loc[idx,'Net_Valuation'].round(1).astype(str) + '.'\n",
    "# Share_Price\n",
    "idx = test.Share_Price[test.Share_Price.notnull()].index\n",
    "test.loc[idx,'Company_Background'] = test.loc[idx,'Company_Background'] + ' This Company has a share price of ' + test.loc[idx,'Share_Price'].round(1).astype(str) + '.'\n"
   ]
  },
  {
   "cell_type": "code",
   "execution_count": null,
   "metadata": {},
   "outputs": [
    {
     "data": {
      "text/plain": [
       "(0, 9)"
      ]
     },
     "metadata": {},
     "output_type": "display_data"
    }
   ],
   "source": [
    "train[train.Company_Background==''].shape"
   ]
  },
  {
   "cell_type": "code",
   "execution_count": null,
   "metadata": {},
   "outputs": [],
   "source": [
    "# drop unnecessary columns from train and test\n",
    "train = train.drop(['Location','Sector','Employees','Revenue','Net_Valuation','Share_Price'],axis=1)\n",
    "test = test.drop(['Location','Sector','Employees','Revenue','Net_Valuation','Share_Price'],axis=1)"
   ]
  },
  {
   "cell_type": "code",
   "execution_count": null,
   "metadata": {},
   "outputs": [],
   "source": [
    "test.Company_Background[0] = 'This Company has a revenue of 139.3 Milions. This Company has a net valuation of 27869.4. This Company has a share price of 214428.8.'"
   ]
  },
  {
   "cell_type": "code",
   "execution_count": null,
   "metadata": {},
   "outputs": [],
   "source": [
    "# save preprocessed data\n",
    "train.to_csv('train1.csv',index=False)\n",
    "test.to_csv('test1.csv',index=False)"
   ]
  }
 ],
 "metadata": {
  "kernelspec": {
   "display_name": "Python 3.8.13 ('base')",
   "language": "python",
   "name": "python3"
  },
  "language_info": {
   "name": "python",
   "version": "3.8.13"
  },
  "orig_nbformat": 4,
  "vscode": {
   "interpreter": {
    "hash": "ad2bdc8ecc057115af97d19610ffacc2b4e99fae6737bb82f5d7fb13d2f2c186"
   }
  }
 },
 "nbformat": 4,
 "nbformat_minor": 2
}
